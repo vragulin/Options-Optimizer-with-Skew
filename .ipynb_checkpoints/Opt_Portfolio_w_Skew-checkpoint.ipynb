{
 "cells": [
  {
   "cell_type": "code",
   "execution_count": 1,
   "id": "ab78e607",
   "metadata": {},
   "outputs": [],
   "source": [
    "# Model optimal portfolios with CRRA utility when distribution has a skew"
   ]
  },
  {
   "cell_type": "code",
   "execution_count": 4,
   "id": "af66900f",
   "metadata": {},
   "outputs": [],
   "source": [
    "from scipy import stats\n",
    "import numpy as np\n",
    "import matplotlib.pyplot as plt\n",
    "import seaborn as sns"
   ]
  },
  {
   "cell_type": "code",
   "execution_count": 21,
   "id": "a6795e77",
   "metadata": {},
   "outputs": [],
   "source": [
    "def createSkewDist(mean, sd, skew, size):\n",
    "\n",
    "    if skew != 0:\n",
    "        # calculate the degrees of freedom 1 required to obtain the specific skewness statistic, derived from simulations\n",
    "        loglog_slope=-2.211897875506251 \n",
    "        loglog_intercept=1.002555437670879 \n",
    "        df2=500\n",
    "        df1 = 10**(loglog_slope*np.log10(abs(skew)) + loglog_intercept)\n",
    "\n",
    "        # sample from F distribution\n",
    "        fsample = np.sort(stats.f(df1, df2).rvs(size=size))\n",
    "\n",
    "        # adjust the variance by scaling the distance from each point to the distribution mean by a constant, derived from simulations\n",
    "        k1_slope = 0.5670830069364579\n",
    "        k1_intercept = -0.09239985798819927\n",
    "        k2_slope = 0.5823114978219056\n",
    "        k2_intercept = -0.11748300123471256\n",
    "\n",
    "        scaling_slope = abs(skew)*k1_slope + k1_intercept\n",
    "        scaling_intercept = abs(skew)*k2_slope + k2_intercept\n",
    "\n",
    "        scale_factor = (sd - scaling_intercept)/scaling_slope    \n",
    "        new_dist = (fsample - np.mean(fsample))*scale_factor + fsample\n",
    "\n",
    "        # flip the distribution if specified skew is negative\n",
    "        if skew < 0:\n",
    "            new_dist = np.mean(new_dist) - new_dist\n",
    "\n",
    "        # adjust the distribution mean to the specified value\n",
    "        final_dist = new_dist + (mean - np.mean(new_dist))\n",
    "    \n",
    "    else:\n",
    "    \n",
    "        # the function does not work if skew=0, so in this case, we just output the normal distribution\n",
    "        final_dist = np.random.normal(mean, sd, size)\n",
    "        \n",
    "    return final_dist\n"
   ]
  },
  {
   "cell_type": "code",
   "execution_count": 23,
   "id": "3519c6f0",
   "metadata": {},
   "outputs": [
    {
     "name": "stdout",
     "output_type": "stream",
     "text": [
      "Input mean:  0.06\n",
      "Result mean:  0.05991071820657027 \n",
      "\n",
      "Input SD:  0.16\n",
      "Result SD:  0.16018466601717996 \n",
      "\n",
      "Input skew:  0.0\n",
      "Result skew:  0.0021703663924300554\n"
     ]
    },
    {
     "data": {
      "image/png": "[encoded data removed]",
      "text/plain": [
       "<Figure size 864x504 with 1 Axes>"
      ]
     },
     "metadata": {
      "needs_background": "light"
     },
     "output_type": "display_data"
    }
   ],
   "source": [
    "'''EXAMPLE'''\n",
    "desired_mean = 0.06\n",
    "desired_skew = 0.0\n",
    "desired_sd = 0.16\n",
    "\n",
    "final_dist = createSkewDist(mean=desired_mean, sd=desired_sd, skew=desired_skew, size=1000000)\n",
    "\n",
    "# inspect the plots & moments, try random sample\n",
    "fig, ax = plt.subplots(figsize=(12,7))\n",
    "sns.histplot(final_dist, ax=ax, color='green', label='generated distribution', stat='density')\n",
    "sns.histplot(np.random.choice(final_dist, size=1000), ax=ax, color='red', line_kws={'alpha':.1}, \n",
    "             stat='density', label='sample n=1000')\n",
    "ax.legend()\n",
    "\n",
    "print('Input mean: ', desired_mean)\n",
    "print('Result mean: ', np.mean(final_dist),'\\n')\n",
    "\n",
    "print('Input SD: ', desired_sd)\n",
    "print('Result SD: ', np.std(final_dist),'\\n')\n",
    "\n",
    "print('Input skew: ', desired_skew)\n",
    "print('Result skew: ', stats.skew(final_dist))"
   ]
  },
  {
   "cell_type": "code",
   "execution_count": 43,
   "id": "901ad111",
   "metadata": {},
   "outputs": [],
   "source": [
    "# Function above does not really work for low levels of skews, so here is another one that uses skewnormal() distribution\n",
    "# Based on these formulas: https://en.wikipedia.org/wiki/Skew_normal_distribution\n",
    "from math import sqrt, pi\n",
    "def skewnorm_moments(location, scale, shape):\n",
    "    delta = alpha/sqrt(1+alpha**2)\n",
    "\n",
    "    mean = location + scale * delta * sqrt(2/pi)\n",
    "    var  = scale ** 2 * (1 - 2 * delta **2 / pi)\n",
    "    skewness = (4-pi) / 2 * (delta * sqrt(2/pi))**3 / (1 - 2 * delta**2 * pi)**(3/2)\n",
    "    \n",
    "    return mean, var, skewness"
   ]
  },
  {
   "cell_type": "code",
   "execution_count": 49,
   "id": "71663e5e",
   "metadata": {},
   "outputs": [],
   "source": [
    "# Inverse to skewnorm_moments.  From desired moments, solves for skewnormal distribution parameters\n",
    "def skewnorm_params(mean, std, skewness):\n",
    "    if abs(skewness) >= 1.0:\n",
    "        print(\"Error - can't solve for skewness >= 1.\")\n",
    "    else:\n",
    "        guess = np.array([mean, std**2, 0])\n",
    "        location, scale, shape = fsolve(skewnorm_moments, guess)\n",
    "        return location, scale, shape"
   ]
  },
  {
   "cell_type": "code",
   "execution_count": 50,
   "id": "68a16bdb",
   "metadata": {},
   "outputs": [
    {
     "ename": "TypeError",
     "evalue": "skewnorm_moments() missing 2 required positional arguments: 'scale' and 'shape'",
     "output_type": "error",
     "traceback": [
      "\u001b[1;31m---------------------------------------------------------------------------\u001b[0m",
      "\u001b[1;31mTypeError\u001b[0m                                 Traceback (most recent call last)",
      "\u001b[1;32m<ipython-input-50-693402455420>\u001b[0m in \u001b[0;36m<module>\u001b[1;34m\u001b[0m\n\u001b[1;32m----> 1\u001b[1;33m \u001b[0mskewnorm_params\u001b[0m\u001b[1;33m(\u001b[0m\u001b[1;36m0\u001b[0m\u001b[1;33m,\u001b[0m\u001b[1;36m1\u001b[0m\u001b[1;33m,\u001b[0m\u001b[1;36m0\u001b[0m\u001b[1;33m)\u001b[0m\u001b[1;33m\u001b[0m\u001b[1;33m\u001b[0m\u001b[0m\n\u001b[0m",
      "\u001b[1;32m<ipython-input-49-ab2c4d55e4db>\u001b[0m in \u001b[0;36mskewnorm_params\u001b[1;34m(mean, std, skewness)\u001b[0m\n\u001b[0;32m      5\u001b[0m     \u001b[1;32melse\u001b[0m\u001b[1;33m:\u001b[0m\u001b[1;33m\u001b[0m\u001b[1;33m\u001b[0m\u001b[0m\n\u001b[0;32m      6\u001b[0m         \u001b[0mguess\u001b[0m \u001b[1;33m=\u001b[0m \u001b[0mnp\u001b[0m\u001b[1;33m.\u001b[0m\u001b[0marray\u001b[0m\u001b[1;33m(\u001b[0m\u001b[1;33m[\u001b[0m\u001b[0mmean\u001b[0m\u001b[1;33m,\u001b[0m \u001b[0mstd\u001b[0m\u001b[1;33m**\u001b[0m\u001b[1;36m2\u001b[0m\u001b[1;33m,\u001b[0m \u001b[1;36m0\u001b[0m\u001b[1;33m]\u001b[0m\u001b[1;33m)\u001b[0m\u001b[1;33m\u001b[0m\u001b[1;33m\u001b[0m\u001b[0m\n\u001b[1;32m----> 7\u001b[1;33m         \u001b[0mlocation\u001b[0m\u001b[1;33m,\u001b[0m \u001b[0mscale\u001b[0m\u001b[1;33m,\u001b[0m \u001b[0mshape\u001b[0m \u001b[1;33m=\u001b[0m \u001b[0mfsolve\u001b[0m\u001b[1;33m(\u001b[0m\u001b[0mskewnorm_moments\u001b[0m\u001b[1;33m,\u001b[0m \u001b[0mguess\u001b[0m\u001b[1;33m)\u001b[0m\u001b[1;33m\u001b[0m\u001b[1;33m\u001b[0m\u001b[0m\n\u001b[0m\u001b[0;32m      8\u001b[0m         \u001b[1;32mreturn\u001b[0m \u001b[0mlocation\u001b[0m\u001b[1;33m,\u001b[0m \u001b[0mscale\u001b[0m\u001b[1;33m,\u001b[0m \u001b[0mshape\u001b[0m\u001b[1;33m\u001b[0m\u001b[1;33m\u001b[0m\u001b[0m\n",
      "\u001b[1;32m~\\anaconda3\\lib\\site-packages\\scipy\\optimize\\minpack.py\u001b[0m in \u001b[0;36mfsolve\u001b[1;34m(func, x0, args, fprime, full_output, col_deriv, xtol, maxfev, band, epsfcn, factor, diag)\u001b[0m\n\u001b[0;32m    158\u001b[0m                'diag': diag}\n\u001b[0;32m    159\u001b[0m \u001b[1;33m\u001b[0m\u001b[0m\n\u001b[1;32m--> 160\u001b[1;33m     \u001b[0mres\u001b[0m \u001b[1;33m=\u001b[0m \u001b[0m_root_hybr\u001b[0m\u001b[1;33m(\u001b[0m\u001b[0mfunc\u001b[0m\u001b[1;33m,\u001b[0m \u001b[0mx0\u001b[0m\u001b[1;33m,\u001b[0m \u001b[0margs\u001b[0m\u001b[1;33m,\u001b[0m \u001b[0mjac\u001b[0m\u001b[1;33m=\u001b[0m\u001b[0mfprime\u001b[0m\u001b[1;33m,\u001b[0m \u001b[1;33m**\u001b[0m\u001b[0moptions\u001b[0m\u001b[1;33m)\u001b[0m\u001b[1;33m\u001b[0m\u001b[1;33m\u001b[0m\u001b[0m\n\u001b[0m\u001b[0;32m    161\u001b[0m     \u001b[1;32mif\u001b[0m \u001b[0mfull_output\u001b[0m\u001b[1;33m:\u001b[0m\u001b[1;33m\u001b[0m\u001b[1;33m\u001b[0m\u001b[0m\n\u001b[0;32m    162\u001b[0m         \u001b[0mx\u001b[0m \u001b[1;33m=\u001b[0m \u001b[0mres\u001b[0m\u001b[1;33m[\u001b[0m\u001b[1;34m'x'\u001b[0m\u001b[1;33m]\u001b[0m\u001b[1;33m\u001b[0m\u001b[1;33m\u001b[0m\u001b[0m\n",
      "\u001b[1;32m~\\anaconda3\\lib\\site-packages\\scipy\\optimize\\minpack.py\u001b[0m in \u001b[0;36m_root_hybr\u001b[1;34m(func, x0, args, jac, col_deriv, xtol, maxfev, band, eps, factor, diag, **unknown_options)\u001b[0m\n\u001b[0;32m    224\u001b[0m     \u001b[1;32mif\u001b[0m \u001b[1;32mnot\u001b[0m \u001b[0misinstance\u001b[0m\u001b[1;33m(\u001b[0m\u001b[0margs\u001b[0m\u001b[1;33m,\u001b[0m \u001b[0mtuple\u001b[0m\u001b[1;33m)\u001b[0m\u001b[1;33m:\u001b[0m\u001b[1;33m\u001b[0m\u001b[1;33m\u001b[0m\u001b[0m\n\u001b[0;32m    225\u001b[0m         \u001b[0margs\u001b[0m \u001b[1;33m=\u001b[0m \u001b[1;33m(\u001b[0m\u001b[0margs\u001b[0m\u001b[1;33m,\u001b[0m\u001b[1;33m)\u001b[0m\u001b[1;33m\u001b[0m\u001b[1;33m\u001b[0m\u001b[0m\n\u001b[1;32m--> 226\u001b[1;33m     \u001b[0mshape\u001b[0m\u001b[1;33m,\u001b[0m \u001b[0mdtype\u001b[0m \u001b[1;33m=\u001b[0m \u001b[0m_check_func\u001b[0m\u001b[1;33m(\u001b[0m\u001b[1;34m'fsolve'\u001b[0m\u001b[1;33m,\u001b[0m \u001b[1;34m'func'\u001b[0m\u001b[1;33m,\u001b[0m \u001b[0mfunc\u001b[0m\u001b[1;33m,\u001b[0m \u001b[0mx0\u001b[0m\u001b[1;33m,\u001b[0m \u001b[0margs\u001b[0m\u001b[1;33m,\u001b[0m \u001b[0mn\u001b[0m\u001b[1;33m,\u001b[0m \u001b[1;33m(\u001b[0m\u001b[0mn\u001b[0m\u001b[1;33m,\u001b[0m\u001b[1;33m)\u001b[0m\u001b[1;33m)\u001b[0m\u001b[1;33m\u001b[0m\u001b[1;33m\u001b[0m\u001b[0m\n\u001b[0m\u001b[0;32m    227\u001b[0m     \u001b[1;32mif\u001b[0m \u001b[0mepsfcn\u001b[0m \u001b[1;32mis\u001b[0m \u001b[1;32mNone\u001b[0m\u001b[1;33m:\u001b[0m\u001b[1;33m\u001b[0m\u001b[1;33m\u001b[0m\u001b[0m\n\u001b[0;32m    228\u001b[0m         \u001b[0mepsfcn\u001b[0m \u001b[1;33m=\u001b[0m \u001b[0mfinfo\u001b[0m\u001b[1;33m(\u001b[0m\u001b[0mdtype\u001b[0m\u001b[1;33m)\u001b[0m\u001b[1;33m.\u001b[0m\u001b[0meps\u001b[0m\u001b[1;33m\u001b[0m\u001b[1;33m\u001b[0m\u001b[0m\n",
      "\u001b[1;32m~\\anaconda3\\lib\\site-packages\\scipy\\optimize\\minpack.py\u001b[0m in \u001b[0;36m_check_func\u001b[1;34m(checker, argname, thefunc, x0, args, numinputs, output_shape)\u001b[0m\n\u001b[0;32m     22\u001b[0m def _check_func(checker, argname, thefunc, x0, args, numinputs,\n\u001b[0;32m     23\u001b[0m                 output_shape=None):\n\u001b[1;32m---> 24\u001b[1;33m     \u001b[0mres\u001b[0m \u001b[1;33m=\u001b[0m \u001b[0matleast_1d\u001b[0m\u001b[1;33m(\u001b[0m\u001b[0mthefunc\u001b[0m\u001b[1;33m(\u001b[0m\u001b[1;33m*\u001b[0m\u001b[1;33m(\u001b[0m\u001b[1;33m(\u001b[0m\u001b[0mx0\u001b[0m\u001b[1;33m[\u001b[0m\u001b[1;33m:\u001b[0m\u001b[0mnuminputs\u001b[0m\u001b[1;33m]\u001b[0m\u001b[1;33m,\u001b[0m\u001b[1;33m)\u001b[0m \u001b[1;33m+\u001b[0m \u001b[0margs\u001b[0m\u001b[1;33m)\u001b[0m\u001b[1;33m)\u001b[0m\u001b[1;33m)\u001b[0m\u001b[1;33m\u001b[0m\u001b[1;33m\u001b[0m\u001b[0m\n\u001b[0m\u001b[0;32m     25\u001b[0m     \u001b[1;32mif\u001b[0m \u001b[1;33m(\u001b[0m\u001b[0moutput_shape\u001b[0m \u001b[1;32mis\u001b[0m \u001b[1;32mnot\u001b[0m \u001b[1;32mNone\u001b[0m\u001b[1;33m)\u001b[0m \u001b[1;32mand\u001b[0m \u001b[1;33m(\u001b[0m\u001b[0mshape\u001b[0m\u001b[1;33m(\u001b[0m\u001b[0mres\u001b[0m\u001b[1;33m)\u001b[0m \u001b[1;33m!=\u001b[0m \u001b[0moutput_shape\u001b[0m\u001b[1;33m)\u001b[0m\u001b[1;33m:\u001b[0m\u001b[1;33m\u001b[0m\u001b[1;33m\u001b[0m\u001b[0m\n\u001b[0;32m     26\u001b[0m         \u001b[1;32mif\u001b[0m \u001b[1;33m(\u001b[0m\u001b[0moutput_shape\u001b[0m\u001b[1;33m[\u001b[0m\u001b[1;36m0\u001b[0m\u001b[1;33m]\u001b[0m \u001b[1;33m!=\u001b[0m \u001b[1;36m1\u001b[0m\u001b[1;33m)\u001b[0m\u001b[1;33m:\u001b[0m\u001b[1;33m\u001b[0m\u001b[1;33m\u001b[0m\u001b[0m\n",
      "\u001b[1;31mTypeError\u001b[0m: skewnorm_moments() missing 2 required positional arguments: 'scale' and 'shape'"
     ]
    }
   ],
   "source": [
    "skewnorm_params(0,1,0)"
   ]
  },
  {
   "cell_type": "code",
   "execution_count": 46,
   "id": "bd15102f",
   "metadata": {},
   "outputs": [
    {
     "data": {
      "text/plain": [
       "(array([0.15957691]), array([0.97453521]), array([0.00269238]))"
      ]
     },
     "execution_count": 46,
     "metadata": {},
     "output_type": "execute_result"
    }
   ],
   "source": [
    "skewnorm_moments(0, 1, 0)"
   ]
  },
  {
   "cell_type": "code",
   "execution_count": 30,
   "id": "30acde37",
   "metadata": {},
   "outputs": [
    {
     "name": "stdout",
     "output_type": "stream",
     "text": [
      "[2. 4. 3.]\n"
     ]
    }
   ],
   "source": [
    "# Solve for alpha from skew\n",
    "from scipy.optimize import fsolve\n",
    "\n",
    "def myFunction(z):\n",
    "   x = z[0]\n",
    "   y = z[1]\n",
    "   w = z[2]\n",
    "\n",
    "   F = np.empty((3))\n",
    "   F[0] = x**2+y**2-20\n",
    "   F[1] = y - x**2\n",
    "   F[2] = w + 5 - x*y\n",
    "   return F\n",
    "\n",
    "zGuess = np.array([1,1,1])\n",
    "z = fsolve(myFunction,zGuess)\n",
    "print(z)"
   ]
  },
  {
   "cell_type": "code",
   "execution_count": 35,
   "id": "c3b340b0",
   "metadata": {},
   "outputs": [
    {
     "name": "stdout",
     "output_type": "stream",
     "text": [
      "[0.20412415]\n"
     ]
    },
    {
     "data": {
      "text/plain": [
       "array([0.2])"
      ]
     },
     "execution_count": 35,
     "metadata": {},
     "output_type": "execute_result"
    }
   ],
   "source": [
    "skew_target = 0.2\n",
    "alpha = fsolve(lambda x: skewness_skewnorm(x) - skew_target, 0)\n",
    "print(alpha)\n",
    "\n",
    "skewness_skewnorm(alpha)"
   ]
  },
  {
   "cell_type": "code",
   "execution_count": null,
   "id": "7f29e6b1",
   "metadata": {},
   "outputs": [],
   "source": []
  }
 ],
 "metadata": {
  "kernelspec": {
   "display_name": "Python 3",
   "language": "python",
   "name": "python3"
  },
  "language_info": {
   "codemirror_mode": {
    "name": "ipython",
    "version": 3
   },
   "file_extension": ".py",
   "mimetype": "text/x-python",
   "name": "python",
   "nbconvert_exporter": "python",
   "pygments_lexer": "ipython3",
   "version": "3.8.8"
  }
 },
 "nbformat": 4,
 "nbformat_minor": 5
}
