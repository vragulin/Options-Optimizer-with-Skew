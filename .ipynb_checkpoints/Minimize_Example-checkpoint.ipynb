{
 "cells": [
  {
   "cell_type": "code",
   "execution_count": 1,
   "id": "50fddbb6",
   "metadata": {},
   "outputs": [],
   "source": [
    "from scipy.optimize import minimize, rosen, rosen_der\n",
    "import numpy as np"
   ]
  },
  {
   "cell_type": "code",
   "execution_count": 4,
   "id": "2eff3471",
   "metadata": {},
   "outputs": [
    {
     "data": {
      "text/plain": [
       "array([1.00000002, 1.00000002, 1.00000007, 1.00000015, 1.00000028])"
      ]
     },
     "execution_count": 4,
     "metadata": {},
     "output_type": "execute_result"
    }
   ],
   "source": [
    "x0 = [1.3, 0.7, 0.8, 1.9, 1.2]\n",
    "res = minimize(rosen, x0, method='Nelder-Mead', tol=1e-6)\n",
    "res.x"
   ]
  },
  {
   "cell_type": "code",
   "execution_count": 27,
   "id": "92075244",
   "metadata": {},
   "outputs": [],
   "source": [
    "y = 100\n",
    "def fun1(x):\n",
    "    return x**2 - y*x + y"
   ]
  },
  {
   "cell_type": "code",
   "execution_count": 28,
   "id": "81ae8488",
   "metadata": {},
   "outputs": [
    {
     "data": {
      "text/plain": [
       "1"
      ]
     },
     "execution_count": 28,
     "metadata": {},
     "output_type": "execute_result"
    }
   ],
   "source": [
    "fun1(1)"
   ]
  },
  {
   "cell_type": "code",
   "execution_count": 29,
   "id": "41383c37",
   "metadata": {},
   "outputs": [],
   "source": [
    "res = minimize(fun1, 100, method='Nelder-Mead', tol=1e-6)"
   ]
  },
  {
   "cell_type": "code",
   "execution_count": 30,
   "id": "11b78bac",
   "metadata": {},
   "outputs": [
    {
     "data": {
      "text/plain": [
       "array([50.])"
      ]
     },
     "execution_count": 30,
     "metadata": {},
     "output_type": "execute_result"
    }
   ],
   "source": [
    "res.x"
   ]
  },
  {
   "cell_type": "code",
   "execution_count": 31,
   "id": "8abfdf9a",
   "metadata": {},
   "outputs": [],
   "source": [
    "fun = lambda x: (x[0] - 1)**2 + (x[1] - 2.5)**2"
   ]
  },
  {
   "cell_type": "code",
   "execution_count": 32,
   "id": "2f3a24c5",
   "metadata": {},
   "outputs": [],
   "source": [
    "cons = ({'type': 'ineq', 'fun': lambda x:  x[0] - 2 * x[1] + 2},\n",
    "        {'type': 'ineq', 'fun': lambda x: -x[0] - 2 * x[1] + 6},\n",
    "        {'type': 'ineq', 'fun': lambda x: -x[0] + 2 * x[1] + 2})"
   ]
  },
  {
   "cell_type": "code",
   "execution_count": 33,
   "id": "e9b7c6d0",
   "metadata": {},
   "outputs": [],
   "source": [
    "bnds = ((0, None), (0, None))"
   ]
  },
  {
   "cell_type": "code",
   "execution_count": 34,
   "id": "2b398d97",
   "metadata": {},
   "outputs": [],
   "source": [
    "res = minimize(fun, (2, 0), method='SLSQP', bounds=bnds,\n",
    "               constraints=cons)"
   ]
  },
  {
   "cell_type": "code",
   "execution_count": 35,
   "id": "571ad50f",
   "metadata": {},
   "outputs": [
    {
     "data": {
      "text/plain": [
       "array([1.4, 1.7])"
      ]
     },
     "execution_count": 35,
     "metadata": {},
     "output_type": "execute_result"
    }
   ],
   "source": [
    "res.x"
   ]
  },
  {
   "cell_type": "code",
   "execution_count": null,
   "id": "60a2d758",
   "metadata": {},
   "outputs": [],
   "source": []
  }
 ],
 "metadata": {
  "kernelspec": {
   "display_name": "Python 3",
   "language": "python",
   "name": "python3"
  },
  "language_info": {
   "codemirror_mode": {
    "name": "ipython",
    "version": 3
   },
   "file_extension": ".py",
   "mimetype": "text/x-python",
   "name": "python",
   "nbconvert_exporter": "python",
   "pygments_lexer": "ipython3",
   "version": "3.8.8"
  }
 },
 "nbformat": 4,
 "nbformat_minor": 5
}
